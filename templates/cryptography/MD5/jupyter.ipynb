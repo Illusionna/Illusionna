{
 "cells": [
  {
   "cell_type": "markdown",
   "metadata": {},
   "source": [
    "##### 目标: 现在有一个字符串 INPUT = \"Ark\", 需要对其进行 MD5 算法加密.\n",
    "\n",
    "Jupyter Notebook 是具体讲解 MD5 底层原理, 结合 RFC-1321 文档分析的.\n",
    "\n",
    "RFC-1321-URL: https://www.rfc-editor.org/rfc/pdfrfc/rfc1321.txt.pdf\n",
    "\n",
    "篇幅会比较长, 适合一步一步入门学习, 但实际意义上的实现, 需要考虑性能问题, 按照 .py 程序的来.\n",
    "\n",
    "MD5 算法加密的过程分为三步:\n",
    "- 处理原文\n",
    "- 设置初始值\n",
    "- 加密运算"
   ]
  },
  {
   "cell_type": "code",
   "execution_count": 1,
   "metadata": {},
   "outputs": [],
   "source": [
    "'''\n",
    "# System --> Windows & Python3.8.0\n",
    "# File ----> jupyter.ipynb\n",
    "# Author --> Illusionna\n",
    "# Create --> 2024/04/27 23:01:42\n",
    "'''\n",
    "# -*- Encoding: UTF-8 -*-\n",
    "\n",
    "\n",
    "import os\n",
    "import platform\n",
    "\n",
    "def cls() -> None:\n",
    "    os.system('')\n",
    "    try:\n",
    "        os.system(\n",
    "            {'Windows': 'cls', 'Linux': 'clear'}[platform.system()]\n",
    "        )\n",
    "    except:\n",
    "        print('\\033[H\\033[J', end='')\n",
    "cls()"
   ]
  },
  {
   "cell_type": "markdown",
   "metadata": {},
   "source": [
    "\"Ark\" 可以看作 3 个 utf-8 编码的字符共同构成的.\n",
    "\n",
    "\"Ark\" = \"A\" + \"r\" + \"k\"\n",
    "\n",
    "把 \"A\" 转化成 utf-8 编码下的 0-1 比特流:\n",
    "$$\n",
    "{\\rm ``A\"} \\longmapsto 65(Decimal) \\longmapsto 41(Hexadecimal) \\longmapsto 01000001(Binary)\n",
    "$$\n",
    "\n",
    "同样的, 得到 \"Ark\" 在 utf-8 编码下的 0-1 比特流:\n",
    "$$\n",
    "{\\rm ``Ark\"} \\longmapsto 01000001,\\ 01110010,\\ 01101011(Binary)\n",
    "$$"
   ]
  },
  {
   "cell_type": "code",
   "execution_count": 2,
   "metadata": {},
   "outputs": [
    {
     "name": "stdout",
     "output_type": "stream",
     "text": [
      "\"\u001b[32mArk\u001b[0m\" \u001b[31m|---->\u001b[0m \u001b[33m01000001 01110010 01101011\u001b[0m\n"
     ]
    }
   ],
   "source": [
    "class TRANSFORM:\n",
    "    \"\"\"\n",
    "    转化类.\n",
    "    \"\"\"\n",
    "\n",
    "    INPUT = 'Ark'\n",
    "\n",
    "    @staticmethod\n",
    "    def TransformHexadecimal(input:str, mode:str='utf-8') -> str:\n",
    "        \"\"\"\n",
    "        字符串转化十六进制字符串.\n",
    "\n",
    "        例如: input = \"A\" 且 utf-8 编码\n",
    "            则 \\x41 是十进制 65 对应的十六进制 41, 也是 ASCII 码的 \"A\"\n",
    "        \"\"\"\n",
    "        return ''.join([rf'\\x{byte:02x}' for byte in input.encode(mode)])\n",
    "\n",
    "    @staticmethod\n",
    "    def TransformBinary(input:str, mode:str='utf-8') -> str:\n",
    "        \"\"\"\n",
    "        字符串转化二进制 0-1 字符串.\n",
    "\n",
    "        例如 input = \"A\" 且 utf-8 编码\n",
    "            则 01000001 对应 ASCII 码的 \"A\", 也是 utf-8 下的 \"A\"\n",
    "        \"\"\"\n",
    "        return ''.join(format(byte, '08b') for byte in input.encode(mode))\n",
    "\n",
    "    @staticmethod\n",
    "    def ViewHexadecimal(input:str, mode:str='utf-8') -> str:\n",
    "        \"\"\"\n",
    "        查看十六进制字符串, 方便观察, 但不能运算.\n",
    "        \"\"\"\n",
    "        return ' '.join([rf'\\x{byte:02x}' for byte in input.encode(mode)])\n",
    "\n",
    "    @staticmethod\n",
    "    def ViewBinary(input:str, mode:str='utf-8') -> str:\n",
    "        \"\"\"\n",
    "        查看二进制字符串, 方便观察, 但不能运算.\n",
    "        \"\"\"\n",
    "        return ' '.join(format(byte, '08b') for byte in input.encode(mode))\n",
    "\n",
    "\n",
    "print(f'\"\\033[32m{TRANSFORM.INPUT}\\033[0m\" \\033[31m|---->\\033[0m \\033[33m{TRANSFORM.ViewBinary(input=TRANSFORM.INPUT, mode=\"utf-8\")}\\033[0m')"
   ]
  },
  {
   "cell_type": "markdown",
   "metadata": {},
   "source": [
    "##### 第一步: 处理原文\n",
    "\n",
    "MD5 算法把信息 (0-1 比特流) 以 512 比特位为一组分组处理, 因此需要进行填充算法.\n",
    "\n",
    "\"Ark\" 的比特流 $01000001,\\ 01110010,\\ 01101011(Binary)$, 长度是 $3\\times8=24$, 而 $512\\div8=64$ 字节.\n",
    "\n",
    "也就是说, 现在只有 3 字节是有效信息, 还有 $64-3=61$ 字节无内容.\n",
    "\n",
    "MD5 填充算法规定:\n",
    "\n",
    "有效信息流的下一字节首位是 1 比特, 其余所有位全为 0 比特, 并且最后 8 字节存放有效信息比特流长度.\n",
    "$$\n",
    "01000001,\\ 01110010,\\ 01101011,\\mid \\underbrace{10000000,\\ 00000000,\\cdots,\\ 00000000}_{53 字节},\\mid \\underbrace{00011000,\\ 00000000,\\cdots,\\ 00000000}_{8字节}\n",
    "$$\n",
    "\n",
    "最后 8 字节的第一字节 $00011000$ 对应十进制就是 24, 也就是有效信息的比特流长度.\n",
    "\n",
    "简言之, 在原文基础上填充一个 \"$10000000$\" 比特流, 然后新构成的比特流长度与 512 取余, 如果结果不为 448, 则就需要再填充一系列的 \"$00000000$\", 使得整体与 512 取余结果为 448, 并且最后额外追加 8 字节存储原文比特流长度.\n",
    "$$\n",
    "(3\\times8+1\\times8+52\\times8)\\mod512=448\n",
    "$$\n",
    "\n",
    "设有效信息流字节长度为 $n$ (已知), 填充 0 字节流长度为 $m$ (未知).\n",
    "$$\n",
    "\\begin{align}\n",
    "(n\\times8+1\\times8+m\\times8)\\mod512&=448 \\notag \\\\\n",
    "&\\Downarrow  \\notag \\\\\n",
    "(n+1+m)\\mod64&=56 \\notag \\\\\n",
    "&\\Downarrow  \\notag \\\\\n",
    "(n+1+m)&=56+64k,\\ \\ \\ k=0,1,2,\\ldots \\notag \\\\\n",
    "&\\Downarrow  \\notag \\\\\n",
    "则通式:\\ m&=64k+55-n,\\ \\ \\ k=0,1,2,\\ldots \\notag \\\\\n",
    "\\end{align}\n",
    "$$"
   ]
  },
  {
   "cell_type": "code",
   "execution_count": 3,
   "metadata": {},
   "outputs": [
    {
     "name": "stdout",
     "output_type": "stream",
     "text": [
      "0100000101110010011010111000000000000000000000000000000000000000000000000000000000000000000000000000000000000000000000000000000000000000000000000000000000000000000000000000000000000000000000000000000000000000000000000000000000000000000000000000000000000000000000000000000000000000000000000000000000000000000000000000000000000000000000000000000000000000000000000000000000000000000000000000000000000000000000000000000000000000000000000000000000000000\n",
      "\u001b[33m零比特填充后比特流长度: 448\u001b[0m\n",
      "01000001011100100110101110000000000000000000000000000000000000000000000000000000000000000000000000000000000000000000000000000000000000000000000000000000000000000000000000000000000000000000000000000000000000000000000000000000000000000000000000000000000000000000000000000000000000000000000000000000000000000000000000000000000000000000000000000000000000000000000000000000000000000000000000000000000000000000000000000000000000000000000000000000000000000001100000000000000000000000000000000000000000000000000000000000\n",
      "\u001b[33m有效信息存储填充后比特流长度: 512\u001b[0m\n"
     ]
    }
   ],
   "source": [
    "class PADDING:\n",
    "    \"\"\"\n",
    "    填充类.\n",
    "    \"\"\"\n",
    "\n",
    "    def __init__(self, binary:str) -> None:\n",
    "        self.__binary = binary\n",
    "        self.__effectiveMessageLength = len(binary)\n",
    "\n",
    "    def ZeroBitsPadding(self) -> str:\n",
    "        \"\"\"\n",
    "        零比特填充.\n",
    "        \"\"\"\n",
    "        self.__binary = self.__binary + '10000000'\n",
    "        while ((len(self.__binary) % 512) != 448):\n",
    "            self.__binary = self.__binary + '00000000'\n",
    "        return self.__binary\n",
    "\n",
    "    def DepositPadding(self) -> str:\n",
    "        \"\"\"\n",
    "        有效信息存储填充.\n",
    "        \"\"\"\n",
    "        string = bin(self.__effectiveMessageLength)[2:].zfill(64)\n",
    "        return self.__binary + ''.join([string[i:i+8] for i in range(0, 64, 8)].__reversed__())\n",
    "\n",
    "\n",
    "tmp: str = TRANSFORM.TransformBinary(input=TRANSFORM.INPUT, mode='utf-8')\n",
    "obj = PADDING(binary=tmp)\n",
    "tmpA = obj.ZeroBitsPadding()\n",
    "print(tmpA)\n",
    "print(f'\\033[33m零比特填充后比特流长度: {len(tmpA)}\\033[0m')\n",
    "tmpB = obj.DepositPadding()\n",
    "print(tmpB)\n",
    "print(f'\\033[33m有效信息存储填充后比特流长度: {len(tmpB)}\\033[0m')\n"
   ]
  },
  {
   "cell_type": "markdown",
   "metadata": {},
   "source": [
    "##### 第二步: 设置初始值 (幻数)\n",
    "\n",
    "RFC-1321 规定标准 MD5 初始迭代的四个幻数 (每个幻数 32 比特位) 分别为:\n",
    "- word A = 0x67452301\n",
    "- word B = 0xefcdab89\n",
    "- word C = 0x98badcfe\n",
    "- word D = 0x10325476\n",
    "\n",
    "注意计算机比特位是从右往左 (小端位), 每八个位一个字节, 所以用十六进制表示会和 RFC 文档的幻数掉序.\n",
    "\n",
    "<img src=\"./imgs/word.png\">"
   ]
  },
  {
   "cell_type": "code",
   "execution_count": 4,
   "metadata": {},
   "outputs": [
    {
     "name": "stdout",
     "output_type": "stream",
     "text": [
      "word A --> 十六进制: 0x67452301 十进制: 1732584193\n",
      "\t二进制比特流: 01100111 01000101 00100011 00000001\n",
      "\t十进制数字流: 103 69 35 1\n",
      "word B --> 十六进制: 0xefcdab89 十进制: 4023233417\n",
      "\t二进制比特流: 11101111 11001101 10101011 10001001\n",
      "\t十进制数字流: 239 205 171 137\n",
      "word C --> 十六进制: 0x98badcfe 十进制: 2562383102\n",
      "\t二进制比特流: 10011000 10111010 11011100 11111110\n",
      "\t十进制数字流: 152 186 220 254\n",
      "word D --> 十六进制: 0x10325476 十进制: 271733878\n",
      "\t二进制比特流: 00010000 00110010 01010100 01110110\n",
      "\t十进制数字流: 16 50 84 118\n"
     ]
    }
   ],
   "source": [
    "class MAGIC:\n",
    "    \"\"\"\n",
    "    初始化幻数类.\n",
    "    \"\"\"\n",
    "\n",
    "    A = 0x67452301\n",
    "    B = 0xefcdab89\n",
    "    C = 0x98badcfe\n",
    "    D = 0x10325476\n",
    "\n",
    "    @staticmethod\n",
    "    def ViewBinary() -> None:\n",
    "        \"\"\"\n",
    "        查看幻数的比特流.\n",
    "        \"\"\"\n",
    "        def Function(hexadecimalNumber:int) -> None:\n",
    "            decimalNumber = int(hexadecimalNumber)\n",
    "            hexadecimalBinary = ' '.join([format(decimalNumber, '032b')[i:i+8] for i in range(0, 32, 8)])\n",
    "            decimalBinary = ' '.join([str(int(binary, 2)) for binary in hexadecimalBinary.split()])\n",
    "            return (hexadecimalBinary, decimalBinary)\n",
    "\n",
    "        print(f'word A --> 十六进制: {hex(MAGIC.A)} 十进制: {MAGIC.A}\\n\\t二进制比特流: {Function(MAGIC.A)[0]}\\n\\t十进制数字流: {Function(MAGIC.A)[1]}')\n",
    "        print(f'word B --> 十六进制: {hex(MAGIC.B)} 十进制: {MAGIC.B}\\n\\t二进制比特流: {Function(MAGIC.B)[0]}\\n\\t十进制数字流: {Function(MAGIC.B)[1]}')\n",
    "        print(f'word C --> 十六进制: {hex(MAGIC.C)} 十进制: {MAGIC.C}\\n\\t二进制比特流: {Function(MAGIC.C)[0]}\\n\\t十进制数字流: {Function(MAGIC.C)[1]}')\n",
    "        print(f'word D --> 十六进制: {hex(MAGIC.D)} 十进制: {MAGIC.D}\\n\\t二进制比特流: {Function(MAGIC.D)[0]}\\n\\t十进制数字流: {Function(MAGIC.D)[1]}')\n",
    "\n",
    "\n",
    "MAGIC.ViewBinary()"
   ]
  },
  {
   "cell_type": "markdown",
   "metadata": {},
   "source": [
    "##### 第三步: 加密运算 (更确切地说, MD5 并不是加密算法), 分为位运算和迭代"
   ]
  },
  {
   "cell_type": "markdown",
   "metadata": {},
   "source": [
    "<1> 位运算\n",
    "\n",
    "四个非线性的辅助函数:\n",
    "$$\n",
    "\\begin{align}\n",
    "F(X,Y,Z) &= (X\\&Y) \\mid ((\\sim X)\\&Z) \\notag \\\\\n",
    "G(X,Y,Z) &= (X\\&Z) \\mid (Y\\&(\\sim Z)) \\notag \\\\\n",
    "H(X,Y,Z) &= X\\wedge Y\\wedge Z \\notag \\\\\n",
    "I(X,Y,Z) &= Y\\wedge (X\\mid (\\sim Z)) \\notag \\\\\n",
    "\\end{align}\n",
    "$$\n",
    "\n",
    "<img src=\"./imgs/auxiliary.png\">\n",
    "\n",
    "除此之外还有一个特殊的辅助函数, 循环左移:\n",
    "$$\n",
    "{\\rm LoopShiftLeft}=\\mathscr{L}(X,s)= (X<<s)\\mid(X>>(32-s))\n",
    "$$\n",
    "\n",
    "<img src=\"./imgs/loopshiftleft.png\">\n",
    "\n",
    "$X[k]$ 是一个连续的 32 位比特构成的整数.\n",
    "\n",
    "按照作者在 RFC-1321 中规定, $s$ 的标准取值随迭代次数是固定的.\n",
    "$$\n",
    "[7,12,17,22,7,12,17,22,7,12,17,22,7,12,17,22,5,9,14,20,\\ldots\\ldots,6,10,15,21]_{1\\times64}\n",
    "$$\n",
    "\n",
    "<img src=\"./imgs/s.png\">\n",
    "\n",
    "图中的 $T_i$ 是固定的 64 个整型常量, 计算公式:\n",
    "$$\n",
    "T_i = \\lfloor \\mid \\sin(i+1) \\mid\\times4294967296 \\rfloor,\\ \\ \\ i=1,2,\\ldots,64\\ 是弧度制\n",
    "$$\n",
    "\n",
    "$$\n",
    "4294967296(Decimal)=10000000,00000000,00000000,00000000(Binary)\n",
    "$$\n",
    "\n",
    "<img src=\"./imgs/Ti.png\">"
   ]
  },
  {
   "cell_type": "code",
   "execution_count": 5,
   "metadata": {},
   "outputs": [
    {
     "name": "stdout",
     "output_type": "stream",
     "text": [
      "12 弧度 --> T(12) 的十进制\u001b[33m 2304563134\u001b[0m --> 十六进制\u001b[33m 0x895cd7be\u001b[0m\n",
      "十进制 1 循环左移 7 位:\u001b[33m 128\u001b[0m\n"
     ]
    }
   ],
   "source": [
    "import math\n",
    "\n",
    "\n",
    "class AUXILIARY:\n",
    "    \"\"\"\n",
    "    辅助函数类.\n",
    "    \"\"\"\n",
    "\n",
    "    F = lambda X,Y,Z:   (X & Y) | ((~X) & Z)\n",
    "    G = lambda X,Y,Z:   (X & Z) | (Y & (~Z))\n",
    "    H = lambda X,Y,Z:   X ^ Y ^ Z\n",
    "    I = lambda X,Y,Z:   Y ^ (X | (~Z))\n",
    "    L = lambda X,s:     (X << s) | (X >> (32 - s))\n",
    "    T = lambda i:       int(abs(math.sin(i)) * (1 << 32))\n",
    "\n",
    "\n",
    "print(f'12 弧度 --> T(12) 的十进制\\033[33m {AUXILIARY.T(12)}\\033[0m --> 十六进制\\033[33m {hex(AUXILIARY.T(12))}\\033[0m')\n",
    "print(f'十进制 1 循环左移 7 位:\\033[33m {AUXILIARY.L(1, 7)}\\033[0m')"
   ]
  },
  {
   "cell_type": "markdown",
   "metadata": {},
   "source": [
    "<1> 迭代"
   ]
  },
  {
   "cell_type": "code",
   "execution_count": 6,
   "metadata": {},
   "outputs": [
    {
     "name": "stdout",
     "output_type": "stream",
     "text": [
      "有效信息: \"Ark\"\n",
      "有效信息字节流长度: 3, 比特流长度 24\n"
     ]
    }
   ],
   "source": [
    "s = 4 * [7, 12, 17, 22] + 4 * [5, 9, 14, 20] + 4 * [4, 11, 16, 23] + 4 * [6, 10, 15, 21]\n",
    "\n",
    "print(f'有效信息: \"{TRANSFORM.INPUT}\"')\n",
    "input = TRANSFORM.INPUT.encode('utf-8')     # 按照 utf-8 编码解析成字节流.\n",
    "print(f'有效信息字节流长度: {len(input)}, 比特流长度 {len(input) * 8}')"
   ]
  },
  {
   "cell_type": "code",
   "execution_count": 7,
   "metadata": {},
   "outputs": [
    {
     "name": "stdout",
     "output_type": "stream",
     "text": [
      "\u001b[33m有效信息字节流构成的十进制列表\u001b[0m\n"
     ]
    },
    {
     "data": {
      "text/plain": [
       "[65, 114, 107]"
      ]
     },
     "execution_count": 7,
     "metadata": {},
     "output_type": "execute_result"
    }
   ],
   "source": [
    "# 按照字节为单位, 计算有效信息每字节对应的十进制数值, 并存入列表.\n",
    "# ----------------------------------------------------\n",
    "# 不会一次将所有元素都加载到内存中, 而是在需要时逐个处理, 因此可以节省内存空间, 但速度会降低.\n",
    "decimalList = list(map(lambda x: x, input))\n",
    "# ----------------------------------------------------\n",
    "# 一次性将字节流中所有元素加载到内存, 再构建新的列表对象存储全部元素, 速度快, 但占用内存多.\n",
    "decimalList = list(input)\n",
    "# ----------------------------------------------------\n",
    "# 根据需要, 选择合适的处理步骤, 示例是 \"Ark\" 3 字节 24 比特, 所以后者比较合适.\n",
    "# ----------------------------------------------------\n",
    "print('\\033[33m有效信息字节流构成的十进制列表\\033[0m')\n",
    "decimalList"
   ]
  },
  {
   "cell_type": "code",
   "execution_count": 8,
   "metadata": {},
   "outputs": [
    {
     "name": "stdout",
     "output_type": "stream",
     "text": [
      "\u001b[33m添加 \"10000000\" 比特后十进制列表: [65, 114, 107, 128]\u001b[0m\n"
     ]
    }
   ],
   "source": [
    "bitsLength = len(decimalList) * 8\n",
    "decimalList.append(int('10000000', 2))      # 把 \"10000000\" 比特流转化成十进制 128 添加到十进制列表.\n",
    "print(f'\\033[33m添加 \"10000000\" 比特后十进制列表: {decimalList}\\033[0m')"
   ]
  },
  {
   "cell_type": "code",
   "execution_count": 9,
   "metadata": {},
   "outputs": [
    {
     "name": "stdout",
     "output_type": "stream",
     "text": [
      "[65, 114, 107, 128, 0, 0, 0, 0, 0, 0, 0, 0, 0, 0, 0, 0, 0, 0, 0, 0, 0, 0, 0, 0, 0, 0, 0, 0, 0, 0, 0, 0, 0, 0, 0, 0, 0, 0, 0, 0, 0, 0, 0, 0, 0, 0, 0, 0, 0, 0, 0, 0, 0, 0, 0, 0]\n",
      "\u001b[33m零比特填充后比特流长度: 448\u001b[0m\n"
     ]
    }
   ],
   "source": [
    "# 零比特填充.\n",
    "while ((len(decimalList) * 8 + 64) % 512) != 0:\n",
    "    decimalList.append(int('00000000', 2))  # 把 \"00000000\" 比特流转化成十进制 0 添加到十进制列表.\n",
    "print(decimalList)\n",
    "print(f'\\033[33m零比特填充后比特流长度: {len(decimalList) * 8}\\033[0m')"
   ]
  },
  {
   "cell_type": "code",
   "execution_count": 10,
   "metadata": {},
   "outputs": [
    {
     "name": "stdout",
     "output_type": "stream",
     "text": [
      "\u001b[33m有效信息存储的十进制列表: [24, 0, 0, 0, 0, 0, 0, 0]\u001b[0m\n",
      "\u001b[33m完整填充后字节流十进制列表: [65, 114, 107, 128, 0, 0, 0, 0, 0, 0, 0, 0, 0, 0, 0, 0, 0, 0, 0, 0, 0, 0, 0, 0, 0, 0, 0, 0, 0, 0, 0, 0, 0, 0, 0, 0, 0, 0, 0, 0, 0, 0, 0, 0, 0, 0, 0, 0, 0, 0, 0, 0, 0, 0, 0, 0, 24, 0, 0, 0, 0, 0, 0, 0]\u001b[0m\n"
     ]
    }
   ],
   "source": [
    "# 有效信息存储填充, 把有效信息 \"Ark\" 的比特流长度 (十进制 24) 存储到十进制列表尾部八字节.\n",
    "for idx in range(0, 8, 1):\n",
    "    decimalList.append((bitsLength >> (8 * idx)) & 0xff)      # 这里强制与 \"11111111\" 进行 & 运算.\n",
    "print(f'\\033[33m有效信息存储的十进制列表: {decimalList[-8:]}\\033[0m')\n",
    "print(f'\\033[33m完整填充后字节流十进制列表: {decimalList}\\033[0m')\n",
    "# 如果不强制截断, 则可能会出现以下这种不正确的情况.\n",
    "# 假设有效信息比特流长度 960\n",
    "demo = \"\"\"\n",
    "bitsLength = 960\n",
    "L = []\n",
    "for idx in range(0, 8, 1):\n",
    "    L.append(bitsLength >> (8 * idx))\n",
    "print(L)\n",
    "\"\"\"\n",
    "# 结果为 >>> [960, 3, 0, 0, 0, 0, 0, 0]\n",
    "# 而十进制列表的每个元素都是 8 比特位, 最大值才 255, 所以不可能出现 960 这个十进制数字."
   ]
  },
  {
   "cell_type": "code",
   "execution_count": 11,
   "metadata": {},
   "outputs": [],
   "source": [
    "# 把十进制列表 decimalList 中顺序连续的 32 比特位逆置合成一个 32 位的整数值.\n",
    "# 例如: [65, 114, 107, 128, ...] --> 65 114 107 128 --> 0x41 0x72 0x6B 0x80 --> 0x806B7241.\n",
    "X = lambda a,b,c,d: (d << 24) | (c << 16) | (b << 8) | a\n",
    "# 把 0x12345678 转化为 0x78563412, 即 32 位比特流高低位对换.\n",
    "reverse = lambda x: (x << 24) & 0xff000000 | (x << 8) & 0x00ff0000 | (x >> 8) & 0x0000ff00 | (x >> 24) & 0x000000ff\n",
    "\n",
    "# MD5 算法把信息 (0-1 比特流) 以 512 比特位为一组分组处理, 对每组迭代.\n",
    "groups: int = len(decimalList) // 64\n",
    "(A, B, C, D) = (MAGIC.A, MAGIC.B, MAGIC.C, MAGIC.D)\n",
    "for i in range(0, groups, 1):\n",
    "    (AA, BB, CC, DD) = (A, B, C, D)\n",
    "    for j in range(0, 64, 1):\n",
    "        # ABCD (initial) -> DABC (1 iter) -> CDAB (2 iter) -> BCDA (iter) -> .... 轮转起来.\n",
    "        # A (initial) -> AA -> aa -> DD -> D (1 iter)\n",
    "        # B (initial) -> BB -> bb -> AA -> A (1 iter) -> AA -> aa -> DD -> D (2 iter)\n",
    "        (aa, bb, dd, cc) = (DD, AA, CC, BB)         # 轮转前.\n",
    "        if 0 <= j <= 15:\n",
    "            # 1~16 字节流, j 不动, j 分别取 0, 1, 2, 3, ..., 15.\n",
    "            k = i * 64 + j * 4\n",
    "            (a, b, c, d) = (AA, BB, CC, DD)\n",
    "            Xk = X(decimalList[k], decimalList[k+1], decimalList[k+2], decimalList[k+3])\n",
    "            a = b + AUXILIARY.L((a + AUXILIARY.F(b, c, d) + Xk + AUXILIARY.T(j+1)) & 0xffffffff, s[j])\n",
    "            bb = a\n",
    "            (AA, BB, CC, DD) = (aa, bb, cc, dd)     # 轮转后.\n",
    "        if 16 <= j <= 31:\n",
    "            # 17~32 字节流, ((5 * j) + 1) % 16, ((5 * j) + 1) % 16 分别取 1, 6, 11, 0, ..., 12.\n",
    "            k = i * 64 + (((5 * j) + 1) % 16) * 4\n",
    "            (a, b, c, d) = (AA, BB, CC, DD)\n",
    "            Xk = X(decimalList[k], decimalList[k+1], decimalList[k+2], decimalList[k+3])\n",
    "            a = b + AUXILIARY.L((a + AUXILIARY.G(b, c, d) + Xk + AUXILIARY.T(j+1)) & 0xffffffff, s[j])\n",
    "            bb = a\n",
    "            (AA, BB, CC, DD) = (aa, bb, cc, dd)     # 轮转后.\n",
    "        if 32 <= j <= 47:\n",
    "            # 33~48 字节流, ((3 * j) + 5) % 16, ((3 * j) + 5) % 16 分别取 5, 8, 11, ..., 2.\n",
    "            k = i * 64 + (((3 * j) + 5) % 16) * 4\n",
    "            (a, b, c, d) = (AA, BB, CC, DD)\n",
    "            Xk = X(decimalList[k], decimalList[k+1], decimalList[k+2], decimalList[k+3])\n",
    "            a = b + AUXILIARY.L((a + AUXILIARY.H(b, c, d) + Xk + AUXILIARY.T(j+1)) & 0xffffffff, s[j])\n",
    "            bb = a\n",
    "            (AA, BB, CC, DD) = (aa, bb, cc, dd)     # 轮转后.\n",
    "        if 48 <= j <= 63:\n",
    "            # 49~64 字节流, (7 * j) % 16, (7 * j) % 16 分别取 0, 7, 14, 5, 12, ..., 9.\n",
    "            k = i * 64 + ((7 * j) % 16) * 4\n",
    "            (a, b, c, d) = (AA, BB, CC, DD)\n",
    "            Xk = X(decimalList[k], decimalList[k+1], decimalList[k+2], decimalList[k+3])\n",
    "            a = b + AUXILIARY.L((a + AUXILIARY.I(b, c, d) + Xk + AUXILIARY.T(j+1)) & 0xffffffff, s[j])\n",
    "            bb = a\n",
    "            (AA, BB, CC, DD) = (aa, bb, cc, dd)     # 轮转后.\n",
    "    A = A + AA\n",
    "    B = B + BB\n",
    "    C = C + CC\n",
    "    D = D + DD"
   ]
  },
  {
   "cell_type": "markdown",
   "metadata": {},
   "source": [
    "最后把迭代完成的四个幻数重新排列一下, 得到 $32\\times4=128$ 比特位的 MD5 摘要结果.\n",
    "\n",
    "幻数构成字符串按照 \"ABCD\" 顺序.\n",
    "\n",
    "<img src=\"./imgs/digest.png\">"
   ]
  },
  {
   "cell_type": "code",
   "execution_count": 12,
   "metadata": {},
   "outputs": [
    {
     "name": "stdout",
     "output_type": "stream",
     "text": [
      "\u001b[33mInput: \"Ark\" --> MD5: \"efa4231e24c356d525a259f0b204404e\"\u001b[0m\n"
     ]
    }
   ],
   "source": [
    "# 位运算计算更快.\n",
    "(A, B, C, D) = (reverse(A), reverse(B), reverse(C), reverse(D))\n",
    "digest = (A << 96) | (B << 64) | (C << 32) | D\n",
    "md5 = hex(digest)[2:].rjust(32, '0')\n",
    "print(f'\\033[33mInput: \"{TRANSFORM.INPUT}\" --> MD5: \"{md5}\"\\033[0m')"
   ]
  },
  {
   "cell_type": "code",
   "execution_count": 13,
   "metadata": {},
   "outputs": [
    {
     "name": "stdout",
     "output_type": "stream",
     "text": [
      "\u001b[33mInput: \"Ark\" --> MD5: \"efa4231e24c356d525a259f0b204404e\"\u001b[0m\n"
     ]
    }
   ],
   "source": [
    "# 字符串切片拼接更直观.\n",
    "md5 = f'{hex(A)}'[2:] + f'{hex(B)}'[2:] + f'{hex(C)}'[2:] + f'{hex(D)}'[2:]\n",
    "print(f'\\033[33mInput: \"{TRANSFORM.INPUT}\" --> MD5: \"{md5}\"\\033[0m')"
   ]
  }
 ],
 "metadata": {
  "kernelspec": {
   "display_name": "Design",
   "language": "python",
   "name": "python3"
  },
  "language_info": {
   "codemirror_mode": {
    "name": "ipython",
    "version": 3
   },
   "file_extension": ".py",
   "mimetype": "text/x-python",
   "name": "python",
   "nbconvert_exporter": "python",
   "pygments_lexer": "ipython3",
   "version": "3.8.0"
  }
 },
 "nbformat": 4,
 "nbformat_minor": 2
}
